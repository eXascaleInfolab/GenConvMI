{
 "metadata": {
  "name": "simple_example"
 }, 
 "nbformat": 2, 
 "worksheets": [
  {
   "cells": [
    {
     "cell_type": "markdown", 
     "source": [
      "Trivia", 
      "------"
     ]
    }, 
    {
     "cell_type": "markdown", 
     "source": [
      "*Gecmi* calculates the mutual information between two binary discrete set relations. Or over two network covers. You just take it the way it seems more familiar to you. ", 
      "", 
      "Here I just play a little with the Python module, and check the error/convergence of the measure."
     ]
    }, 
    {
     "cell_type": "markdown", 
     "source": [
      "Start by importing the module with the NMI implementation:"
     ]
    }, 
    {
     "cell_type": "code", 
     "collapsed": true, 
     "input": [
      "import gecmi"
     ], 
     "language": "python", 
     "outputs": [], 
     "prompt_number": 1
    }, 
    {
     "cell_type": "markdown", 
     "source": [
      "The interesting function in this module is calc_nmi_and_error. This function accepts a few parameters:"
     ]
    }, 
    {
     "cell_type": "code", 
     "collapsed": false, 
     "input": [
      "help(gecmi.calc_nmi_and_error)"
     ], 
     "language": "python", 
     "outputs": [
      {
       "output_type": "stream", 
       "stream": "stdout", 
       "text": [
        "Help on built-in function calc_nmi_and_error in module gecmi:", 
        "", 
        "calc_nmi_and_error(...)", 
        "    calc_nmi_and_error( (object)arg1, (object)arg2, (float)arg3, (float)arg4) -&gt; object :", 
        "        Simple function to calculate the nmi between two covers. Parameters: ", 
        "        ", 
        "        &#96;cover1&apos;: 2-column array-convertible containing pairs (vertex,module), one per row ", 
        "        &#96;cover2&apos;: Second cover, in the same format than &#96;cover1&apos;", 
        "        &#96;risk&apos;: Risk of getting a greater error than expected", 
        "        &#96;error&apos;: Bound for the error ", 
        "        ", 
        "    ", 
        "        C++ signature :", 
        "            boost::python::api::object calc_nmi_and_error(_object*,_object*,double,double)"
       ]
      }
     ], 
     "prompt_number": 9
    }, 
    {
     "cell_type": "markdown", 
     "source": [
      "That is, if you are thinking on a very trivial cover with the nodes 0 and 1, and the modules 0 and 1, there is a way of representing it:"
     ]
    }, 
    {
     "cell_type": "code", 
     "collapsed": true, 
     "input": [
      "arr0 = [", 
      "        [0,1],  # Node 0 belongs to module 1", 
      "        [1,0],  # Node 1 belongs to the module 0", 
      "       ]"
     ], 
     "language": "python", 
     "outputs": [], 
     "prompt_number": 6
    }, 
    {
     "cell_type": "markdown", 
     "source": [
      "Now let's see how to compare this cover with itself. If our approach is correct we should get the NMI value 1.0 (or close):"
     ]
    }, 
    {
     "cell_type": "code", 
     "collapsed": false, 
     "input": [
      "gecmi.calc_nmi_and_error(arr0, arr0, 0.1, 0.1 )"
     ], 
     "language": "python", 
     "outputs": [
      {
       "output_type": "pyout", 
       "prompt_number": 10, 
       "text": [
        "{&apos;error&apos;: 2.220446049250313e-16, &apos;nmi&apos;: 1.0}"
       ]
      }
     ], 
     "prompt_number": 10
    }, 
    {
     "cell_type": "markdown", 
     "source": [
      "## More complicated \"covers\""
     ]
    }, 
    {
     "cell_type": "markdown", 
     "source": [
      "Now we are going for something more complicated. Suppose that the nodes of the network are identified with natural numbers from 0 till 100, and that there are, say, 11 modules:"
     ]
    }, 
    {
     "cell_type": "code", 
     "collapsed": true, 
     "input": [
      "straight_cover=[]", 
      "for i in xrange(100):", 
      "    straight_cover.append( (i, i%11) )"
     ], 
     "language": "python", 
     "outputs": [], 
     "prompt_number": 11
    }, 
    {
     "cell_type": "markdown", 
     "source": [
      "This cover still is pretty basic, and when compared with itself should be one:"
     ]
    }, 
    {
     "cell_type": "code", 
     "collapsed": false, 
     "input": [
      "gecmi.calc_nmi_and_error(straight_cover, straight_cover, 0.1, 0.1 )"
     ], 
     "language": "python", 
     "outputs": [
      {
       "output_type": "pyout", 
       "prompt_number": 13, 
       "text": [
        "{&apos;error&apos;: 1.1102230246251565e-16, &apos;nmi&apos;: 1.0}"
       ]
      }
     ], 
     "prompt_number": 13
    }, 
    {
     "cell_type": "markdown", 
     "source": [
      "Now let's put a bit of overlapping:"
     ]
    }, 
    {
     "cell_type": "code", 
     "collapsed": true, 
     "input": [
      "not_so_straight_cover = []", 
      "for i in xrange(100):", 
      "    x = i%11", 
      "    not_so_straight_cover.append( (i, x) )", 
      "    if i % 3 == 0:", 
      "        not_so_straight_cover.append( (i, (x-1)%11 ) )"
     ], 
     "language": "python", 
     "outputs": [], 
     "prompt_number": 20
    }, 
    {
     "cell_type": "markdown", 
     "source": [
      "Uncomment the lines below if you want to see how does this looks exactly."
     ]
    }, 
    {
     "cell_type": "code", 
     "collapsed": true, 
     "input": [
      "# import numpy as np", 
      "# np.array( not_so_straight_cover )"
     ], 
     "language": "python", 
     "outputs": [], 
     "prompt_number": 16
    }, 
    {
     "cell_type": "markdown", 
     "source": [
      "And compare:"
     ]
    }, 
    {
     "cell_type": "code", 
     "collapsed": false, 
     "input": [
      "gecmi.calc_nmi_and_error(straight_cover, not_so_straight_cover, 0.1, 0.1 )"
     ], 
     "language": "python", 
     "outputs": [
      {
       "output_type": "pyout", 
       "prompt_number": 21, 
       "text": [
        "{&apos;error&apos;: 0.002275619784219045, &apos;nmi&apos;: 0.8093933456406307}"
       ]
      }
     ], 
     "prompt_number": 21
    }, 
    {
     "cell_type": "markdown", 
     "source": [
      "We got an NMI value which is not as high this time. Are the error values consistent?"
     ]
    }, 
    {
     "cell_type": "code", 
     "collapsed": false, 
     "input": [
      "gecmi.calc_nmi_and_error(straight_cover, not_so_straight_cover, 0.001, 0.001 )"
     ], 
     "language": "python", 
     "outputs": [
      {
       "output_type": "pyout", 
       "prompt_number": 24, 
       "text": [
        "{&apos;error&apos;: 0.000991597108557238, &apos;nmi&apos;: 0.8096424830379061}"
       ]
      }
     ], 
     "prompt_number": 24
    }, 
    {
     "cell_type": "code", 
     "collapsed": false, 
     "input": [
      "gecmi.calc_nmi_and_error(straight_cover, not_so_straight_cover, 0.001, 0.0001 )"
     ], 
     "language": "python", 
     "outputs": [
      {
       "output_type": "pyout", 
       "prompt_number": 25, 
       "text": [
        "{&apos;error&apos;: 9.998588665637419e-05, &apos;nmi&apos;: 0.8094548421029614}"
       ]
      }
     ], 
     "prompt_number": 25
    }, 
    {
     "cell_type": "markdown", 
     "source": [
      "It seems to me that they are!"
     ]
    }
   ]
  }
 ]
}